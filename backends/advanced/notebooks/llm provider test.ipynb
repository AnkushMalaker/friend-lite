{
 "cells": [
  {
   "cell_type": "code",
   "execution_count": 1,
   "id": "94d3e6d1-ba6d-423f-a7e3-6548aab4aa82",
   "metadata": {},
   "outputs": [],
   "source": [
    "import sys, os\n",
    "from pathlib import Path\n",
    "\n",
    "current_dir = Path.cwd()\n",
    "sys.path.insert(0, str(current_dir / \"..\" / \"src\"))\n"
   ]
  },
  {
   "cell_type": "code",
   "execution_count": 34,
   "id": "b0e6fdb4-a01b-4a0e-a4d8-f3b5d4096083",
   "metadata": {},
   "outputs": [
    {
     "data": {
      "text/plain": [
       "True"
      ]
     },
     "execution_count": 34,
     "metadata": {},
     "output_type": "execute_result"
    }
   ],
   "source": [
    "from advanced_omi_backend.memory.providers import OpenAIProvider\n",
    "from advanced_omi_backend.memory.config import build_memory_config_from_env\n",
    "from advanced_omi_backend.memory.providers.llm_providers import chunk_text_with_spacy\n",
    "import spacy\n",
    "from dotenv import load_dotenv\n",
    "load_dotenv()"
   ]
  },
  {
   "cell_type": "code",
   "execution_count": 35,
   "id": "a4736c5b-495d-468f-a92e-3df6298f0828",
   "metadata": {},
   "outputs": [],
   "source": [
    "config = build_memory_config_from_env()\n",
    "\n",
    "llm_provider = OpenAIProvider(config.llm_config)"
   ]
  },
  {
   "cell_type": "code",
   "execution_count": 36,
   "id": "a5bd6eac-30f5-4297-8749-8997578cf5c0",
   "metadata": {},
   "outputs": [],
   "source": [
    "text = \"\"\"\n",
    "Grid percent awake. Number 78. Spit is more than spit. It's mostly water, but it also contains a lot of proteins and other things important for digesting food. Your saliva also contains chemicals to help protect your teeth.\n",
    "\n",
    "Number 76. You produce about 40,000 liters of saliva over the course of your life. Or to put it another way, that's enough spit to fill roughly 500 bathtubs. Number 75. You make more saliva when you're standing than when you're lying down.\n",
    "\n",
    "No one is totally sure why, but experts think it might be tied to your sympathetic nervous system that controls the fight or flight response. Number 74. If your mouth is frequently wet, that that is is a a good thing. That's because spit protects your delicate mucous membranes inside your mouth from infection. The enzyme lysozine found in saliva actually disintegrates most bacteria on contact.\n",
    "\n",
    "If you frequently experience dry mouth, you are actually at increased risk of infection and getting sick. Number Number seventy seventy three. If you couldn't produce spit, it would be nearly impossible for you to eat. That's because saliva mixes with your food to make it easier for it to slip down your esophagus. And that's why when hospitals treat people suffering from extreme exposure like lost hikers, they first hydrate them well before allowing them to eat anything.\n",
    "\n",
    "Number 72. Saliva is important for keeping your mouth at a healthy pH level, meaning it's not too acidic or basic. The saliva pH level ranges from 6.2 to 7.6, while a pool has a pH level of 7.2 to 7.8, preferring to be slightly more basic to prevent damage to pool infrastructure and your skin and eyes. Number 71. Saliva production is a function of your autonomic nervous system, the part of your nervous system that triggers things automatically without you needing to think about them.\n",
    "\n",
    "Just like the beating of your heart or breathing, saliva production is automatic and usually in response to stimuli such as seeing food. Number 70, police have been using fingerprints to link criminals to crime scenes for over one hundred thirty years. But did you know that your tongue print is just as unique as your fingerprint? The tongue has its own set of ridges, wrinkles, and patterns that are totally one of a kind just like your fingerprints. Number 69, your mouth is a crowded place, and it's not just your tongue and teeth in there.\n",
    "\n",
    "In fact, there are more bacteria in your mouth right now than there are people living on Earth. Number 68. Contrary to what you might have been told, your tongue doesn't really have specific zones for tasting salty, sweet, sour, or bitter. The tongue map is a myth. In reality, your taste buds can detect all flavors equally across the entire surface of your tongue.\n",
    "\n",
    "Your whole tongue is in on the flavor party. Number 67, are you part Scientists think that blushing evolved as an involuntary response to certain social situations and was meant for communication, and it's not just humans. Chickens and birds can\n",
    "\"\"\""
   ]
  },
  {
   "cell_type": "code",
   "execution_count": 38,
   "id": "16d03e5d-3272-4d7d-a5e7-7756ed8add65",
   "metadata": {},
   "outputs": [
    {
     "data": {
      "text/plain": [
       "509"
      ]
     },
     "execution_count": 38,
     "metadata": {},
     "output_type": "execute_result"
    }
   ],
   "source": [
    "len(text.split(\" \"))"
   ]
  },
  {
   "cell_type": "code",
   "execution_count": 37,
   "id": "bf22899b-3bb0-4afc-8009-a491d03028fa",
   "metadata": {},
   "outputs": [
    {
     "data": {
      "text/plain": [
       "[['Saliva is mostly water but contains proteins and other things important for digesting food',\n",
       "  'Saliva protects teeth with chemicals',\n",
       "  'Producing about 40,000 liters of saliva over a lifetime',\n",
       "  'Standing produces more saliva than lying down',\n",
       "  'Wet mouth protects against infection',\n",
       "  'Enzyme lysozine in saliva disintegrates most bacteria on contact',\n",
       "  'Dry mouth increases risk of infection and getting sick',\n",
       "  'Saliva helps food slip down the esophagus',\n",
       "  'Hospitals hydrate lost hikers before allowing them to eat',\n",
       "  'Saliva keeps mouth at a healthy pH level',\n",
       "  'Saliva production is automatic and triggered by stimuli such as seeing food',\n",
       "  'Tongue print is unique like fingerprint',\n",
       "  'More bacteria in the mouth than people on Earth',\n",
       "  \"Tongue doesn't have specific zones for tasting salty, sweet, sour, or bitter\",\n",
       "  'Blushing may have evolved for communication',\n",
       "  'Chickens and birds can blush']]"
      ]
     },
     "execution_count": 37,
     "metadata": {},
     "output_type": "execute_result"
    }
   ],
   "source": [
    "await llm_provider.extract_memories(text, config.extraction_prompt)"
   ]
  },
  {
   "cell_type": "code",
   "execution_count": null,
   "id": "87772f59-bb9f-45c6-9da4-54d08ba2a59d",
   "metadata": {},
   "outputs": [],
   "source": []
  }
 ],
 "metadata": {
  "kernelspec": {
   "display_name": "Python 3 (ipykernel)",
   "language": "python",
   "name": "python3"
  },
  "language_info": {
   "codemirror_mode": {
    "name": "ipython",
    "version": 3
   },
   "file_extension": ".py",
   "mimetype": "text/x-python",
   "name": "python",
   "nbconvert_exporter": "python",
   "pygments_lexer": "ipython3",
   "version": "3.12.11"
  }
 },
 "nbformat": 4,
 "nbformat_minor": 5
}

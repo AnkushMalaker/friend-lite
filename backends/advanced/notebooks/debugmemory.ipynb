{
 "cells": [
  {
   "cell_type": "markdown",
   "id": "description-cell",
   "metadata": {},
   "source": [
    "# Memory Service Debug Notebook\n",
    "\n",
    "This notebook is designed for debugging and testing the advanced memory service functionality. It provides a comprehensive testing environment for:\n",
    "\n",
    "- **Memory Service Initialization**: Setting up and configuring the memory service\n",
    "- **Memory Operations**: Adding, searching, retrieving, and deleting user memories\n",
    "- **Environment Configuration**: Setting up necessary API keys and service URLs\n",
    "- **Debugging**: Testing memory service functionality with sample data\n",
    "\n",
    "The notebook includes examples of:\n",
    "- Adding memories from transcripts\n",
    "- Searching memories by query\n",
    "- Retrieving all user memories\n",
    "- Cleaning up test data\n",
    "\n",
    "Use this notebook to verify memory service operations and troubleshoot any issues with the advanced memory backend.\n"
   ]
  },
  {
   "cell_type": "code",
   "execution_count": 1,
   "id": "412d0a88-a015-4c44-99f8-4f03feba1124",
   "metadata": {
    "editable": true,
    "slideshow": {
     "slide_type": ""
    },
    "tags": []
   },
   "outputs": [],
   "source": [
    "import sys\n",
    "sys.path.insert(0, \"..\")\n",
    "sys.path.insert(1, \"src\")\n",
    "import os\n",
    "\n",
    "# Set environment variables\n",
    "os.environ[\"OPENAI_API_KEY\"] = \"ollama\"  \n",
    "os.environ[\"OPENAI_BASE_URL\"] = \"http://localhost:11434/v1\"\n",
    "os.environ[\"QDRANT_BASE_URL\"] = \"localhost\"\n",
    "os.environ[\"OPENAI_EMBEDDER_MODEL\"] = \"erwan2/DeepSeek-R1-Distill-Qwen-1.5B:latest\"\n",
    "# os.environ[\"embedding_model\"] = \"erwan2/DeepSeek-R1-Distill-Qwen-1.5B:latest\"\n"
   ]
  },
  {
   "cell_type": "code",
   "execution_count": 6,
   "id": "b2ebabc0-98e1-4f7e-b122-b2baaaa8930f",
   "metadata": {},
   "outputs": [],
   "source": [
    "from advanced_omi_backend.memory import get_memory_service\n",
    "\n",
    "# Get the global service instance\n",
    "memory_service = get_memory_service()\n",
    "await memory_service.initialize()\n",
    "\n",
    "# Add memories from transcript\n",
    "success, memory_ids = await memory_service.add_memory(\n",
    "    transcript=\"User discussed their goals for the next quarter.\",\n",
    "    client_id=\"client123\",\n",
    "    audio_uuid=\"audio456\", \n",
    "    user_id=\"user789\",\n",
    "    user_email=\"user@example.com\"\n",
    ")\n",
    "\n",
    "# Search memories\n",
    "results = await memory_service.search_memories(\n",
    "    query=\"quarterly goals\",\n",
    "    user_id=\"user789\",\n",
    "    limit=5\n",
    ")\n",
    "\n",
    "# Get all user memories\n",
    "memories = await memory_service.get_all_memories(\"user789\")"
   ]
  },
  {
   "cell_type": "code",
   "execution_count": 7,
   "id": "9645796f-d2f0-4572-9633-4471a55661be",
   "metadata": {},
   "outputs": [
    {
     "data": {
      "text/plain": [
       "[{'id': 'd8a21c9d-e173-49d4-b619-46d62f2ce643',\n",
       "  'memory': 'Discussed goals for the next quarter',\n",
       "  'metadata': {'source': 'offline_streaming',\n",
       "   'client_id': 'client123',\n",
       "   'audio_uuid': 'audio456',\n",
       "   'user_id': 'user789',\n",
       "   'user_email': 'user@example.com',\n",
       "   'timestamp': 1755992538,\n",
       "   'extraction_enabled': True},\n",
       "  'created_at': '1755992538',\n",
       "  'score': 0.17714580000000002}]"
      ]
     },
     "execution_count": 7,
     "metadata": {},
     "output_type": "execute_result"
    }
   ],
   "source": [
    "results"
   ]
  },
  {
   "cell_type": "code",
   "execution_count": 8,
   "id": "bf17d00c-4c57-43fd-ad67-c8bf0d1d32b3",
   "metadata": {},
   "outputs": [
    {
     "data": {
      "text/plain": [
       "[{'id': 'd8a21c9d-e173-49d4-b619-46d62f2ce643',\n",
       "  'memory': 'Discussed goals for the next quarter',\n",
       "  'metadata': {'source': 'offline_streaming',\n",
       "   'client_id': 'client123',\n",
       "   'audio_uuid': 'audio456',\n",
       "   'user_id': 'user789',\n",
       "   'user_email': 'user@example.com',\n",
       "   'timestamp': 1755992538,\n",
       "   'extraction_enabled': True},\n",
       "  'created_at': '1755992538',\n",
       "  'score': None}]"
      ]
     },
     "execution_count": 8,
     "metadata": {},
     "output_type": "execute_result"
    }
   ],
   "source": [
    "memories"
   ]
  },
  {
   "cell_type": "code",
   "execution_count": 10,
   "id": "338aca3f-74cc-419b-ac0b-a05e0c934bb8",
   "metadata": {},
   "outputs": [
    {
     "data": {
      "text/plain": [
       "3"
      ]
     },
     "execution_count": 10,
     "metadata": {},
     "output_type": "execute_result"
    }
   ],
   "source": [
    "await memory_service.delete_all_user_memories(user_id=\"68a4f32884c906d9e7917eed\")"
   ]
  },
  {
   "cell_type": "code",
   "execution_count": null,
   "id": "8d86bdb4-e5d9-4735-87e6-5795da68fab3",
   "metadata": {
    "editable": true,
    "slideshow": {
     "slide_type": ""
    },
    "tags": []
   },
   "outputs": [],
   "source": []
  }
 ],
 "metadata": {
  "kernelspec": {
   "display_name": "Python 3 (ipykernel)",
   "language": "python",
   "name": "python3"
  },
  "language_info": {
   "codemirror_mode": {
    "name": "ipython",
    "version": 3
   },
   "file_extension": ".py",
   "mimetype": "text/x-python",
   "name": "python",
   "nbconvert_exporter": "python",
   "pygments_lexer": "ipython3",
   "version": "3.12.11"
  }
 },
 "nbformat": 4,
 "nbformat_minor": 5
}

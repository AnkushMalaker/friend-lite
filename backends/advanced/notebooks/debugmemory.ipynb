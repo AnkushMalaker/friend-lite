{
 "cells": [
  {
   "cell_type": "code",
   "execution_count": 1,
   "id": "412d0a88-a015-4c44-99f8-4f03feba1124",
   "metadata": {
    "editable": true,
    "slideshow": {
     "slide_type": ""
    },
    "tags": []
   },
   "outputs": [],
   "source": [
    "import sys\n",
    "sys.path.insert(0, \"..\")\n",
    "sys.path.insert(1, \"src\")\n",
    "import os\n",
    "\n",
    "# Set environment variables\n",
    "os.environ[\"OPENAI_API_KEY\"] = \"ollama\"  \n",
    "os.environ[\"OPENAI_BASE_URL\"] = \"http://localhost:11434/v1\"\n",
    "os.environ[\"QDRANT_BASE_URL\"] = \"localhost\"\n",
    "os.environ[\"OPENAI_EMBEDDER_MODEL\"] = \"erwan2/DeepSeek-R1-Distill-Qwen-1.5B:latest\"\n",
    "# os.environ[\"embedding_model\"] = \"erwan2/DeepSeek-R1-Distill-Qwen-1.5B:latest\"\n"
   ]
  },
  {
   "cell_type": "code",
   "execution_count": 2,
   "id": "b2ebabc0-98e1-4f7e-b122-b2baaaa8930f",
   "metadata": {},
   "outputs": [
    {
     "name": "stderr",
     "output_type": "stream",
     "text": [
      "/home/doraemon/Documents/friend-lite/backends/advanced/src/advanced_omi_backend/memory/prompts.py:205: SyntaxWarning: invalid escape sequence '\\%'\n",
      "  **Progress Status**: 10\\% \\complete — 5 out of 50 blog posts processed.\n"
     ]
    }
   ],
   "source": [
    "from advanced_omi_backend.memory import get_memory_service\n",
    "\n",
    "# Get the global service instance\n",
    "memory_service = get_memory_service()\n",
    "await memory_service.initialize()\n",
    "\n",
    "# Add memories from transcript\n",
    "success, memory_ids = await memory_service.add_memory(\n",
    "    transcript=\"User discussed their goals for the next quarter.\",\n",
    "    client_id=\"client123\",\n",
    "    audio_uuid=\"audio456\", \n",
    "    user_id=\"user789\",\n",
    "    user_email=\"user@example.com\"\n",
    ")\n",
    "\n",
    "# Search memories\n",
    "results = await memory_service.search_memories(\n",
    "    query=\"quarterly goals\",\n",
    "    user_id=\"user789\",\n",
    "    limit=5\n",
    ")\n",
    "\n",
    "# Get all user memories\n",
    "memories = await memory_service.get_all_memories(\"user789\")"
   ]
  },
  {
   "cell_type": "code",
   "execution_count": 3,
   "id": "9645796f-d2f0-4572-9633-4471a55661be",
   "metadata": {},
   "outputs": [
    {
     "data": {
      "text/plain": [
       "[{'id': '50d894ff-f239-4ec4-ab4b-85ccf15b6144',\n",
       "  'memory': 'Discussed goals for the next quarter',\n",
       "  'metadata': {'source': 'offline_streaming',\n",
       "   'client_id': 'client123',\n",
       "   'audio_uuid': 'audio456',\n",
       "   'user_id': 'user789',\n",
       "   'user_email': 'user@example.com',\n",
       "   'timestamp': 1755923507,\n",
       "   'extraction_enabled': True},\n",
       "  'created_at': '1755923507',\n",
       "  'score': 0.17714580000000002}]"
      ]
     },
     "execution_count": 3,
     "metadata": {},
     "output_type": "execute_result"
    }
   ],
   "source": [
    "results"
   ]
  },
  {
   "cell_type": "code",
   "execution_count": 4,
   "id": "bf17d00c-4c57-43fd-ad67-c8bf0d1d32b3",
   "metadata": {},
   "outputs": [
    {
     "data": {
      "text/plain": [
       "[{'id': '50d894ff-f239-4ec4-ab4b-85ccf15b6144',\n",
       "  'memory': 'Discussed goals for the next quarter',\n",
       "  'metadata': {'source': 'offline_streaming',\n",
       "   'client_id': 'client123',\n",
       "   'audio_uuid': 'audio456',\n",
       "   'user_id': 'user789',\n",
       "   'user_email': 'user@example.com',\n",
       "   'timestamp': 1755923507,\n",
       "   'extraction_enabled': True},\n",
       "  'created_at': '1755923507',\n",
       "  'score': None}]"
      ]
     },
     "execution_count": 4,
     "metadata": {},
     "output_type": "execute_result"
    }
   ],
   "source": [
    "memories"
   ]
  },
  {
   "cell_type": "code",
   "execution_count": 5,
   "id": "338aca3f-74cc-419b-ac0b-a05e0c934bb8",
   "metadata": {},
   "outputs": [
    {
     "data": {
      "text/plain": [
       "1"
      ]
     },
     "execution_count": 5,
     "metadata": {},
     "output_type": "execute_result"
    }
   ],
   "source": [
    "await memory_service.delete_all_user_memories(user_id=\"user789\")"
   ]
  },
  {
   "cell_type": "code",
   "execution_count": null,
   "id": "8d86bdb4-e5d9-4735-87e6-5795da68fab3",
   "metadata": {
    "editable": true,
    "slideshow": {
     "slide_type": ""
    },
    "tags": []
   },
   "outputs": [],
   "source": []
  }
 ],
 "metadata": {
  "kernelspec": {
   "display_name": "Python 3 (ipykernel)",
   "language": "python",
   "name": "python3"
  },
  "language_info": {
   "codemirror_mode": {
    "name": "ipython",
    "version": 3
   },
   "file_extension": ".py",
   "mimetype": "text/x-python",
   "name": "python",
   "nbconvert_exporter": "python",
   "pygments_lexer": "ipython3",
   "version": "3.12.11"
  }
 },
 "nbformat": 4,
 "nbformat_minor": 5
}

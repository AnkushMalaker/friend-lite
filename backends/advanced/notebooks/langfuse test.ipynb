{
 "cells": [
  {
   "cell_type": "markdown",
   "id": "b94a5829-8599-47f8-a8e8-be830805a448",
   "metadata": {},
   "source": [
    "## Test langfuse integration"
   ]
  },
  {
   "cell_type": "code",
   "execution_count": null,
   "id": "59e520b7-d3b6-4df7-97b4-76092db27655",
   "metadata": {},
   "outputs": [
    {
     "name": "stdout",
     "output_type": "stream",
     "text": [
      " Hello there! I'm here, working with an all-local backend and frontend. It's great to use local components for a more personalized experience! How can I help you today?\n"
     ]
    }
   ],
   "source": [
    "from langfuse.openai import OpenAI\n",
    "import os\n",
    "\n",
    "from langfuse import Langfuse\n",
    "\n",
    "from langfuse import Langfuse\n",
    "\n",
    "os.environ[\"LANGFUSE_PUBLIC_KEY\"] = \"pk-lf-9xxxx0d\"\n",
    "os.environ[\"LANGFUSE_SECRET_KEY\"] = \"sk-lf-a7xxxx\"\n",
    "os.environ[\"LANGFUSE_HOST\"] = \"http://xxxx:3002\"\n",
    "os.environ[\"LANGFUSE_ENABLE_TELEMETRY\"] = \"false\"\n",
    "\n",
    "client = OpenAI(base_url=\"http://localhost:11434/v1\", api_key=\"ollama\")\n",
    "\n",
    "resp = client.chat.completions.create(\n",
    "    model=\"mistral:7b-instruct-v0.3-q8_0\",\n",
    "    messages=[{\"role\":\"user\",\"content\":\"Say hi from an all-local stack\"}],\n",
    "    name=\"ollama-chat\",\n",
    "    metadata={\"langfuse_tags\":[\"local\",\"ollama\"]},\n",
    ")\n",
    "print(resp.choices[0].message.content)\n"
   ]
  },
  {
   "cell_type": "code",
   "execution_count": null,
   "id": "be9d73c4-44ed-4a54-a8f8-dad3eab318aa",
   "metadata": {},
   "outputs": [],
   "source": []
  }
 ],
 "metadata": {
  "kernelspec": {
   "display_name": "Python 3 (ipykernel)",
   "language": "python",
   "name": "python3"
  },
  "language_info": {
   "codemirror_mode": {
    "name": "ipython",
    "version": 3
   },
   "file_extension": ".py",
   "mimetype": "text/x-python",
   "name": "python",
   "nbconvert_exporter": "python",
   "pygments_lexer": "ipython3",
   "version": "3.12.11"
  }
 },
 "nbformat": 4,
 "nbformat_minor": 5
}
